{
 "cells": [
  {
   "cell_type": "markdown",
   "metadata": {},
   "source": [
    "### Attack MNIST Dataset\n",
    "The previous Adding Problem example demostrated that RNN can handle (sparse) inputs with long-term dependencies successfully. In this example, we apply RNN on the MNIST handwritten digits dataset to further show its effectiveness.\n",
    "\n",
    "* You can download the data from [here](https://github.com/keruimin/minpy_examples/raw/master/data/mnist.dat).\n",
    "\n",
    "![MNIST Dataset](http://neuralnetworksanddeeplearning.com/images/mnist_100_digits.png)\n",
    "\n",
    "First, you can define an RNN Network as in previous section with slight modification:\n",
    "\n",
    "1. Since this is a classification task, instead of using l2_loss, we employ softmax_loss as the loss function.\n",
    "2. We initialize 'Wh' as an identity matrix, and 'b' as a zero vector. Therefore, the signal of 'h' flows easily at the begining of the optimization.\n",
    "3. (Bug fix?) We set the parameter 'h0' to zero before each forward step, to make sure it doesn't memorize information from previous samples."
   ]
  },
  {
   "cell_type": "code",
   "execution_count": null,
   "metadata": {
    "collapsed": true
   },
   "outputs": [],
   "source": [
    "class RNNNet(ModelBase):\n",
    "    def __init__(self,\n",
    "                 batch_size=100,\n",
    "                 input_size=1,\n",
    "                 hidden_size=64,\n",
    "                 num_classes=10):\n",
    "        super(RNNNet, self).__init__()\n",
    "        self.add_param(name='h0', shape=(batch_size, hidden_size))\\\n",
    "            .add_param(name='Wx', shape=(input_size, hidden_size))\\\n",
    "            .add_param(name='Wh', shape=(hidden_size, hidden_size),\n",
    "                       init_rule='constant',\n",
    "                       init_config={'value': np.identity(hidden_size)})\\\n",
    "            .add_param(name='b', shape=(hidden_size,),\n",
    "                       init_rule='constant',\n",
    "                       init_config={'value': np.zeros(hidden_size)})\\\n",
    "            .add_param(name='Wa', shape=(hidden_size, num_classes))\\\n",
    "            .add_param(name='ba', shape=(num_classes,))\n",
    "\n",
    "    def forward(self, X, mode):\n",
    "        seq_len = X.shape[1]\n",
    "        self.params['h0'][:] = 0\n",
    "        h = self.params['h0']\n",
    "        for t in xrange(seq_len):\n",
    "            h = rnn_step(X[:, t, :], h, self.params['Wx'],\n",
    "                         self.params['Wh'], self.params['b'])\n",
    "        y = layers.affine(h, self.params['Wa'], self.params['ba'])\n",
    "\n",
    "        return y\n",
    "\n",
    "    def loss(self, predict, y):\n",
    "        return layers.softmax_loss(predict, y)"
   ]
  },
  {
   "cell_type": "markdown",
   "metadata": {},
   "source": [
    "The training data consists of 60000 samples, each of which is a 784-dimensional uint8 vector, representing a 28*28 grey image. Usually, people treat each image as a 784-d vector, and build classifiers based on this representation. In this case, however, we treat each 784-d vector as a sequence.\n",
    "\n",
    "Imagine that instead of reading the whole image, at each step, we are only allowed to read few pixels (a patch) of the given image, and determine which class it belongs to at the end. This is much more difficult, as the final decision cannot be made with one or two patches.\n",
    "\n",
    "To make the dataset easiler to learn, we need to normalize the data before training:"
   ]
  },
  {
   "cell_type": "code",
   "execution_count": null,
   "metadata": {
    "collapsed": true
   },
   "outputs": [],
   "source": [
    "data = joblib.load(\"data/mnist.dat\")\n",
    "\n",
    "mean = np.mean(data[\"train_data\"], axis=0)\n",
    "std = np.std(data[\"train_data\"] - mean, axis=0)\n",
    "data[\"train_data\"] = (data[\"train_data\"][:] - mean)/(std+1e-5)\n",
    "data[\"test_data\"] = (data[\"test_data\"][:] - mean)/(std+1e-5)"
   ]
  },
  {
   "cell_type": "markdown",
   "metadata": {},
   "source": [
    "As an example, we set the size of each patch to 7. Hence, the length of each sample is 112 (784/7). RNN needs to classify each sample after reading the whole 112 patches. Notice that we only use 5000 samples for training, 1000 for testing."
   ]
  },
  {
   "cell_type": "code",
   "execution_count": null,
   "metadata": {
    "collapsed": true
   },
   "outputs": [],
   "source": [
    "BATCH = 50\n",
    "INPUT_DIM = 7\n",
    "HIDDEN_DIM = 128\n",
    "\n",
    "_, dim = data[\"train_data\"].shape\n",
    "seq_len = dim / INPUT_DIM\n",
    "\n",
    "train_iter = NDArrayIter(data[\"train_data\"][:5000].reshape(5000, seq_len, INPUT_DIM),\n",
    "                         data[\"train_label\"][:5000],\n",
    "                         batch_size=BATCH,\n",
    "                         shuffle=True)\n",
    "\n",
    "test_iter = NDArrayIter(data[\"test_data\"][:1000].reshape(1000, seq_len, INPUT_DIM),\n",
    "                        data[\"test_label\"][:1000],\n",
    "                        batch_size=BATCH,\n",
    "                        shuffle=False)\n",
    "\n",
    "model = RNNNet(batch_size=BATCH, input_size=INPUT_DIM, hidden_size=HIDDEN_DIM)\n",
    "\n",
    "solver = Solver(model,\n",
    "                train_iter,\n",
    "                test_iter,\n",
    "                num_epochs=100,\n",
    "                init_rule='xavier',\n",
    "                update_rule='rmsprop',\n",
    "                optim_config={\n",
    "                        'learning_rate': 0.0002,\n",
    "                },\n",
    "                verbose=True,\n",
    "                print_every=10)\n",
    "\n",
    "solver.init()\n",
    "solver.train()"
   ]
  },
  {
   "cell_type": "markdown",
   "metadata": {},
   "source": [
    "A typical learning curve for this problem look like the following figure."
   ]
  },
  {
   "cell_type": "code",
   "execution_count": 2,
   "metadata": {
    "collapsed": false
   },
   "outputs": [
    {
     "data": {
      "image/png": "[encoded data removed]",
      "text/plain": [
       "<matplotlib.figure.Figure at 0x4929350>"
      ]
     },
     "metadata": {},
     "output_type": "display_data"
    }
   ],
   "source": [
    "%matplotlib inline\n",
    "import matplotlib.pyplot as plt\n",
    "\n",
    "hist = [0.558, 0.67, 0.689, 0.709, 0.731, 0.767, 0.75, 0.799, 0.803, 0.816, \\\n",
    "        0.773, 0.797, 0.826, 0.831, 0.81, 0.823, 0.835, 0.834, 0.86, 0.825, \\\n",
    "        0.866, 0.861, 0.864, 0.87, 0.892, 0.831, 0.878, 0.866, 0.705, 0.881, \\\n",
    "        0.837, 0.893, 0.895, 0.893, 0.863, 0.884, 0.889, 0.91, 0.881, 0.898, \\\n",
    "        0.906, 0.908, 0.916, 0.915, 0.848, 0.813, 0.913, 0.927, 0.909, 0.906]\n",
    "plt.plot(hist)\n",
    "plt.xlabel(\"Epoch\")\n",
    "plt.ylabel(\"Accuracy\")\n",
    "plt.show()"
   ]
  },
  {
   "cell_type": "markdown",
   "metadata": {},
   "source": [
    "### Possible assigments\n",
    "\n",
    "1. Instead of using vanilla RNN, try LSTM and GRU.\n",
    "2. Verify the effectiveness of data normalization.\n",
    "3. We can you conclude from the above learning curve figure, can to change learning rate to improve it?\n",
    "4. Add $l_2$ regularization term to the RNN model."
   ]
  }
 ],
 "metadata": {
  "kernelspec": {
   "display_name": "Python 2",
   "language": "python",
   "name": "python2"
  },
  "language_info": {
   "codemirror_mode": {
    "name": "ipython",
    "version": 2
   },
   "file_extension": ".py",
   "mimetype": "text/x-python",
   "name": "python",
   "nbconvert_exporter": "python",
   "pygments_lexer": "ipython2",
   "version": "2.7.3"
  }
 },
 "nbformat": 4,
 "nbformat_minor": 1
}
